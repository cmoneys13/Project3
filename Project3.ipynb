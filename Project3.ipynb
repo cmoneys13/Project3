{
 "cells": [
  {
   "cell_type": "code",
   "execution_count": null,
   "metadata": {},
   "outputs": [],
   "source": [
    "import airsim\n",
    "import numpy as np\n",
    "import time\n",
    "import scikitlearn\n",
    "import tensorflow"
   ]
  },
  {
   "cell_type": "code",
   "execution_count": null,
   "metadata": {},
   "outputs": [],
   "source": [
    "# Connect to the AirSim simulator\n",
    "client = airsim.MultirotorClient()\n",
    "client.confirmConnection()"
   ]
  },
  {
   "cell_type": "code",
   "execution_count": null,
   "metadata": {},
   "outputs": [],
   "source": [
    "\n",
    "# Number of drones\n",
    "num_drones = 18  # This example uses 18 drones to spell out the message\n",
    "drones = [f\"Drone{i+1}\" for i in range(num_drones)]"
   ]
  },
  {
   "cell_type": "code",
   "execution_count": null,
   "metadata": {},
   "outputs": [],
   "source": [
    "# Enable API control and arm drones\n",
    "for drone in drones:\n",
    "    client.enableApiControl(True, vehicle_name=drone)\n",
    "    client.armDisarm(True, vehicle_name=drone)"
   ]
  },
  {
   "cell_type": "code",
   "execution_count": null,
   "metadata": {},
   "outputs": [],
   "source": [
    "# Function to take off all drones\n",
    "def takeoff_drones(client, drones, altitude=10):\n",
    "    for drone in drones:\n",
    "        client.takeoffAsync(vehicle_name=drone).join()\n",
    "        client.moveToPositionAsync(0, 0, -altitude, 5, vehicle_name=drone).join()"
   ]
  },
  {
   "cell_type": "code",
   "execution_count": null,
   "metadata": {},
   "outputs": [],
   "source": [
    "# Function to move drones to form letters\n",
    "def move_drones_to_form_letter(client, drones, positions):\n",
    "    for drone, pos in zip(drones, positions):\n",
    "        client.moveToPositionAsync(pos[0], pos[1], pos[2], 5, vehicle_name=drone).join()"
   ]
  },
  {
   "cell_type": "code",
   "execution_count": null,
   "metadata": {},
   "outputs": [],
   "source": [
    " Predefined positions for each letter in the phrase \"Would You Marry Me?\"\n",
    "# Each sublist contains positions for drones to form a specific letter\n",
    "letters_positions = [\n",
    "    # Positions to form \"W\"\n",
    "    [(-10, 0, -10), (-9, 0, -10), (-8, 0, -10), (-7, 0, -10), (-6, 0, -10)],\n",
    "    # Positions to form \"o\"\n",
    "    [(-5, 0, -10), (-4, 0, -10), (-3, 0, -10), (-2, 0, -10), (-1, 0, -10)],\n",
    "    # Positions to form \"u\"\n",
    "    [(0, 0, -10), (1, 0, -10), (2, 0, -10), (3, 0, -10), (4, 0, -10)],\n",
    "    # Positions to form \"l\"\n",
    "    [(5, 0, -10), (6, 0, -10), (7, 0, -10), (8, 0, -10), (9, 0, -10)],\n",
    "    # Positions to form \"d\"\n",
    "    [(10, 0, -10), (11, 0, -10), (12, 0, -10), (13, 0, -10), (14, 0, -10)],\n",
    "    # Positions to form \"Y\"\n",
    "    [(-10, 2, -10), (-9, 2, -10), (-8, 2, -10), (-7, 2, -10), (-6, 2, -10)],\n",
    "    # Positions to form \"o\"\n",
    "    [(-5, 2, -10), (-4, 2, -10), (-3, 2, -10), (-2, 2, -10), (-1, 2, -10)],\n",
    "    # Positions to form \"u\"\n",
    "    [(0, 2, -10), (1, 2, -10), (2, 2, -10), (3, 2, -10), (4, 2, -10)],\n",
    "    # Positions to form \"M\"\n",
    "    [(5, 2, -10), (6, 2, -10), (7, 2, -10), (8, 2, -10), (9, 2, -10)],\n",
    "    # Positions to form \"a\"\n",
    "    [(10, 2, -10), (11, 2, -10), (12, 2, -10), (13, 2, -10), (14, 2, -10)],\n",
    "    # Positions to form \"r\"\n",
    "    [(-10, 4, -10), (-9, 4, -10), (-8, 4, -10), (-7, 4, -10), (-6, 4, -10)],\n",
    "    # Positions to form \"r\"\n",
    "    [(-5, 4, -10), (-4, 4, -10), (-3, 4, -10), (-2, 4, -10), (-1, 4, -10)],\n",
    "    # Positions to form \"y\"\n",
    "    [(0, 4, -10), (1, 4, -10), (2, 4, -10), (3, 4, -10), (4, 4, -10)],\n",
    "    # Positions to form \"M\"\n",
    "    [(5, 4, -10), (6, 4, -10), (7, 4, -10), (8, 4, -10), (9, 4, -10)],\n",
    "    # Positions to form \"e\"\n",
    "    [(10, 4, -10), (11, 4, -10), (12, 4, -10), (13, 4, -10), (14, 4, -10)]"
   ]
  },
  {
   "cell_type": "code",
   "execution_count": null,
   "metadata": {},
   "outputs": [],
   "source": [
    "# Execute the drone movements to form each letter\n",
    "takeoff_drones(client, drones)"
   ]
  },
  {
   "cell_type": "code",
   "execution_count": null,
   "metadata": {},
   "outputs": [],
   "source": [
    "for letter_positions in letters_positions:\n",
    "    move_drones_to_form_letter(client, drones, letter_positions)\n",
    "    time.sleep(5)  # Pause to let the letters be visible"
   ]
  },
  {
   "cell_type": "code",
   "execution_count": null,
   "metadata": {},
   "outputs": [],
   "source": [
    "# Land all drones\n",
    "for drone in drones:\n",
    "    client.landAsync(vehicle_name=drone).join()\n",
    "    client.armDisarm(False, vehicle_name=drone)\n",
    "    client.enableApiControl(False, vehicle_name=drone)"
   ]
  },
  {
   "cell_type": "code",
   "execution_count": null,
   "metadata": {},
   "outputs": [],
   "source": [
    "print(\"Message displayed successfully!\")"
   ]
  },
  {
   "cell_type": "code",
   "execution_count": null,
   "metadata": {},
   "outputs": [],
   "source": []
  },
  {
   "cell_type": "code",
   "execution_count": null,
   "metadata": {},
   "outputs": [],
   "source": []
  }
 ],
 "metadata": {
  "language_info": {
   "name": "python"
  }
 },
 "nbformat": 4,
 "nbformat_minor": 2
}
